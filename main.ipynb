{
 "cells": [
  {
   "cell_type": "code",
   "execution_count": 4,
   "metadata": {},
   "outputs": [],
   "source": [
    "from maze import Maze\n",
    "import numpy as np\n",
    "import argparse"
   ]
  },
  {
   "cell_type": "code",
   "execution_count": 5,
   "metadata": {},
   "outputs": [],
   "source": [
    "def get_inputs():\n",
    "    parser = argparse.ArgumentParser(description='Finds the path from start to goal using Dijkstra\\'s algorithm',usage='\\t\\t\\tpython %(prog)s -x0 100 -y0 50 -x1 400 -y1 250\\t\\t\\tSilent Operation\\n\\t\\t\\tpython %(prog)s -x0 100 -y0 50 -x1 400 -y1 250 --output\\t\\tVerbose Operation ',)\n",
    "    parser.add_argument('-x0', type=np.int0, default=0, help=\"The x coordinate of the Start Node\")\n",
    "    parser.add_argument('-y0', type=np.int0, default=0, help=\"The y coordinate of the Start Node\")\n",
    "    parser.add_argument('-x1', type=np.int0, default=400, help=\"The x coordinate of the Goal Node\")\n",
    "    parser.add_argument('-y1', type=np.int0, default=250, help=\"The y coordinate of the Goal Node\")\n",
    "    parser.add_argument('-o', '--output', action='store_true', help=\"Turns on verbose\")\n",
    "    \n",
    "    \n",
    "    args = parser.parse_args()\n",
    "    start =(args.x0,args.y0)\n",
    "    goal = (args.x1,args.y1)\n",
    "    v = args.output\n",
    "    return [start,goal,v]"
   ]
  },
  {
   "cell_type": "code",
   "execution_count": 6,
   "metadata": {},
   "outputs": [],
   "source": [
    "def main(start,goal,verbose=False):\n",
    "    a = Maze(verbose=verbose)\n",
    "    if (a.solve_maze(start,goal)):\n",
    "        path = a.back_track()    \n",
    "        a.simple_plot_path()\n",
    "        a.game_plot()\n",
    "    print(('-'*50)+\"\\n\\t\\tCLOSING\\t\\t\\n\"+('-'*50))\n",
    "    "
   ]
  },
  {
   "cell_type": "code",
   "execution_count": 7,
   "metadata": {},
   "outputs": [
    {
     "name": "stderr",
     "output_type": "stream",
     "text": [
      "usage: ipykernel_launcher.py [-h] [-x0 X0] [-y0 Y0] [-x1 X1] [-y1 Y1]\n",
      "ipykernel_launcher.py: error: unrecognized arguments: -f /home/eurus/.local/share/jupyter/runtime/kernel-e4541ef3-f34c-42da-a051-f833405ab281.json\n"
     ]
    },
    {
     "ename": "SystemExit",
     "evalue": "2",
     "output_type": "error",
     "traceback": [
      "An exception has occurred, use %tb to see the full traceback.\n",
      "\u001b[0;31mSystemExit\u001b[0m\u001b[0;31m:\u001b[0m 2\n"
     ]
    },
    {
     "name": "stderr",
     "output_type": "stream",
     "text": [
      "/home/eurus/anaconda3/envs/enpm661/lib/python3.9/site-packages/IPython/core/interactiveshell.py:3465: UserWarning: To exit: use 'exit', 'quit', or Ctrl-D.\n",
      "  warn(\"To exit: use 'exit', 'quit', or Ctrl-D.\", stacklevel=1)\n"
     ]
    }
   ],
   "source": [
    "if __name__== '__main__':\n",
    "    start,goal,v = get_inputs()\n",
    "    main(start=start,goal=goal,verbose=v)"
   ]
  }
 ],
 "metadata": {
  "interpreter": {
   "hash": "75be3606324e7ac5bc661a90d547fd63ba4b3fb1ddada9c531af674fc77fef81"
  },
  "kernelspec": {
   "display_name": "Python 3.9.7 ('enpm661')",
   "language": "python",
   "name": "python3"
  },
  "language_info": {
   "codemirror_mode": {
    "name": "ipython",
    "version": 3
   },
   "file_extension": ".py",
   "mimetype": "text/x-python",
   "name": "python",
   "nbconvert_exporter": "python",
   "pygments_lexer": "ipython3",
   "version": "3.9.7"
  },
  "orig_nbformat": 4
 },
 "nbformat": 4,
 "nbformat_minor": 2
}
